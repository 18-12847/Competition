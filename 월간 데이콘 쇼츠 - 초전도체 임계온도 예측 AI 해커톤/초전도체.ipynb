{
  "cells": [
    {
      "cell_type": "markdown",
      "source": [
        "# 라이브러리 설치"
      ],
      "metadata": {
        "id": "ZW92v_kQfOiO"
      }
    },
    {
      "cell_type": "code",
      "execution_count": null,
      "metadata": {
        "colab": {
          "base_uri": "https://localhost:8080/"
        },
        "id": "WJFvjR62yr9r",
        "outputId": "c155a249-feaa-4a35-844b-81c6ca6c0878",
        "tags": []
      },
      "outputs": [
        {
          "name": "stdout",
          "output_type": "stream",
          "text": [
            "Requirement already satisfied: mljar-supervised in c:\\users\\oh\\anaconda3\\lib\\site-packages (1.0.2)\n",
            "Requirement already satisfied: ipython in c:\\users\\oh\\anaconda3\\lib\\site-packages (from mljar-supervised) (7.31.1)\n",
            "Requirement already satisfied: seaborn>=0.11.1 in c:\\users\\oh\\anaconda3\\lib\\site-packages (from mljar-supervised) (0.11.2)\n",
            "Requirement already satisfied: wordcloud>=1.8.1 in c:\\users\\oh\\anaconda3\\lib\\site-packages (from mljar-supervised) (1.9.2)\n",
            "Requirement already satisfied: matplotlib>=3.2.2 in c:\\users\\oh\\anaconda3\\lib\\site-packages (from mljar-supervised) (3.5.2)\n",
            "Requirement already satisfied: typing-extensions in c:\\users\\oh\\anaconda3\\lib\\site-packages (from mljar-supervised) (4.3.0)\n",
            "Requirement already satisfied: scipy>=1.6.1 in c:\\users\\oh\\anaconda3\\lib\\site-packages (from mljar-supervised) (1.9.1)\n",
            "Requirement already satisfied: category-encoders>=2.2.2 in c:\\users\\oh\\anaconda3\\lib\\site-packages (from mljar-supervised) (2.6.1)\n",
            "Requirement already satisfied: dtreeviz>=2.0.0 in c:\\users\\oh\\anaconda3\\lib\\site-packages (from mljar-supervised) (2.2.2)\n",
            "Requirement already satisfied: catboost>=0.24.4 in c:\\users\\oh\\anaconda3\\lib\\site-packages (from mljar-supervised) (1.2)\n",
            "Requirement already satisfied: markdown in c:\\users\\oh\\anaconda3\\lib\\site-packages (from mljar-supervised) (3.3.4)\n",
            "Requirement already satisfied: pandas>=1.2.0 in c:\\users\\oh\\anaconda3\\lib\\site-packages (from mljar-supervised) (1.4.4)\n",
            "Requirement already satisfied: shap>=0.36.0 in c:\\users\\oh\\anaconda3\\lib\\site-packages (from mljar-supervised) (0.42.1)\n",
            "Requirement already satisfied: joblib>=1.0.1 in c:\\users\\oh\\anaconda3\\lib\\site-packages (from mljar-supervised) (1.1.0)\n",
            "Requirement already satisfied: scikit-plot==0.3.7 in c:\\users\\oh\\anaconda3\\lib\\site-packages (from mljar-supervised) (0.3.7)\n",
            "Requirement already satisfied: tabulate>=0.8.7 in c:\\users\\oh\\anaconda3\\lib\\site-packages (from mljar-supervised) (0.8.10)\n",
            "Requirement already satisfied: lightgbm>=3.0.0 in c:\\users\\oh\\anaconda3\\lib\\site-packages (from mljar-supervised) (4.0.0)\n",
            "Requirement already satisfied: numpy>=1.19.5 in c:\\users\\oh\\anaconda3\\lib\\site-packages (from mljar-supervised) (1.21.6)\n",
            "Requirement already satisfied: optuna>=2.7.0 in c:\\users\\oh\\anaconda3\\lib\\site-packages (from mljar-supervised) (3.2.0)\n",
            "Requirement already satisfied: scikit-learn>=1.0 in c:\\users\\oh\\anaconda3\\lib\\site-packages (from mljar-supervised) (1.0.2)\n",
            "Requirement already satisfied: xgboost>=1.3.3 in c:\\users\\oh\\anaconda3\\lib\\site-packages (from mljar-supervised) (1.7.6)\n",
            "Requirement already satisfied: graphviz in c:\\users\\oh\\anaconda3\\lib\\site-packages (from catboost>=0.24.4->mljar-supervised) (0.20.1)\n",
            "Requirement already satisfied: plotly in c:\\users\\oh\\anaconda3\\lib\\site-packages (from catboost>=0.24.4->mljar-supervised) (5.9.0)\n",
            "Requirement already satisfied: six in c:\\users\\oh\\anaconda3\\lib\\site-packages (from catboost>=0.24.4->mljar-supervised) (1.16.0)\n",
            "Requirement already satisfied: statsmodels>=0.9.0 in c:\\users\\oh\\anaconda3\\lib\\site-packages (from category-encoders>=2.2.2->mljar-supervised) (0.13.2)\n",
            "Requirement already satisfied: patsy>=0.5.1 in c:\\users\\oh\\anaconda3\\lib\\site-packages (from category-encoders>=2.2.2->mljar-supervised) (0.5.2)\n",
            "Requirement already satisfied: colour in c:\\users\\oh\\anaconda3\\lib\\site-packages (from dtreeviz>=2.0.0->mljar-supervised) (0.1.5)\n",
            "Requirement already satisfied: pytest in c:\\users\\oh\\anaconda3\\lib\\site-packages (from dtreeviz>=2.0.0->mljar-supervised) (7.1.2)\n",
            "Requirement already satisfied: pyparsing>=2.2.1 in c:\\users\\oh\\anaconda3\\lib\\site-packages (from matplotlib>=3.2.2->mljar-supervised) (3.0.9)\n",
            "Requirement already satisfied: fonttools>=4.22.0 in c:\\users\\oh\\anaconda3\\lib\\site-packages (from matplotlib>=3.2.2->mljar-supervised) (4.25.0)\n",
            "Requirement already satisfied: cycler>=0.10 in c:\\users\\oh\\anaconda3\\lib\\site-packages (from matplotlib>=3.2.2->mljar-supervised) (0.11.0)\n",
            "Requirement already satisfied: packaging>=20.0 in c:\\users\\oh\\anaconda3\\lib\\site-packages (from matplotlib>=3.2.2->mljar-supervised) (21.3)\n",
            "Requirement already satisfied: pillow>=6.2.0 in c:\\users\\oh\\anaconda3\\lib\\site-packages (from matplotlib>=3.2.2->mljar-supervised) (9.2.0)\n",
            "Requirement already satisfied: python-dateutil>=2.7 in c:\\users\\oh\\anaconda3\\lib\\site-packages (from matplotlib>=3.2.2->mljar-supervised) (2.8.2)\n",
            "Requirement already satisfied: kiwisolver>=1.0.1 in c:\\users\\oh\\anaconda3\\lib\\site-packages (from matplotlib>=3.2.2->mljar-supervised) (1.4.2)\n",
            "Requirement already satisfied: sqlalchemy>=1.3.0 in c:\\users\\oh\\anaconda3\\lib\\site-packages (from optuna>=2.7.0->mljar-supervised) (1.4.39)\n",
            "Requirement already satisfied: tqdm in c:\\users\\oh\\anaconda3\\lib\\site-packages (from optuna>=2.7.0->mljar-supervised) (4.64.1)\n",
            "Requirement already satisfied: colorlog in c:\\users\\oh\\anaconda3\\lib\\site-packages (from optuna>=2.7.0->mljar-supervised) (6.7.0)\n",
            "Requirement already satisfied: cmaes>=0.9.1 in c:\\users\\oh\\anaconda3\\lib\\site-packages (from optuna>=2.7.0->mljar-supervised) (0.10.0)\n",
            "Requirement already satisfied: PyYAML in c:\\users\\oh\\anaconda3\\lib\\site-packages (from optuna>=2.7.0->mljar-supervised) (6.0)\n",
            "Requirement already satisfied: alembic>=1.5.0 in c:\\users\\oh\\anaconda3\\lib\\site-packages (from optuna>=2.7.0->mljar-supervised) (1.11.1)\n",
            "Requirement already satisfied: pytz>=2020.1 in c:\\users\\oh\\anaconda3\\lib\\site-packages (from pandas>=1.2.0->mljar-supervised) (2022.1)\n",
            "Requirement already satisfied: threadpoolctl>=2.0.0 in c:\\users\\oh\\anaconda3\\lib\\site-packages (from scikit-learn>=1.0->mljar-supervised) (2.2.0)\n",
            "Requirement already satisfied: slicer==0.0.7 in c:\\users\\oh\\anaconda3\\lib\\site-packages (from shap>=0.36.0->mljar-supervised) (0.0.7)\n",
            "Requirement already satisfied: cloudpickle in c:\\users\\oh\\anaconda3\\lib\\site-packages (from shap>=0.36.0->mljar-supervised) (2.0.0)\n",
            "Requirement already satisfied: numba in c:\\users\\oh\\anaconda3\\lib\\site-packages (from shap>=0.36.0->mljar-supervised) (0.55.1)\n",
            "Requirement already satisfied: matplotlib-inline in c:\\users\\oh\\anaconda3\\lib\\site-packages (from ipython->mljar-supervised) (0.1.6)\n",
            "Requirement already satisfied: jedi>=0.16 in c:\\users\\oh\\anaconda3\\lib\\site-packages (from ipython->mljar-supervised) (0.18.1)\n",
            "Requirement already satisfied: traitlets>=4.2 in c:\\users\\oh\\anaconda3\\lib\\site-packages (from ipython->mljar-supervised) (5.1.1)\n",
            "Requirement already satisfied: pygments in c:\\users\\oh\\anaconda3\\lib\\site-packages (from ipython->mljar-supervised) (2.11.2)\n",
            "Requirement already satisfied: colorama in c:\\users\\oh\\anaconda3\\lib\\site-packages (from ipython->mljar-supervised) (0.4.5)\n",
            "Requirement already satisfied: prompt-toolkit!=3.0.0,!=3.0.1,<3.1.0,>=2.0.0 in c:\\users\\oh\\anaconda3\\lib\\site-packages (from ipython->mljar-supervised) (3.0.20)\n",
            "Requirement already satisfied: backcall in c:\\users\\oh\\anaconda3\\lib\\site-packages (from ipython->mljar-supervised) (0.2.0)\n",
            "Requirement already satisfied: pickleshare in c:\\users\\oh\\anaconda3\\lib\\site-packages (from ipython->mljar-supervised) (0.7.5)\n",
            "Requirement already satisfied: decorator in c:\\users\\oh\\anaconda3\\lib\\site-packages (from ipython->mljar-supervised) (5.1.1)\n",
            "Requirement already satisfied: setuptools>=18.5 in c:\\users\\oh\\anaconda3\\lib\\site-packages (from ipython->mljar-supervised) (63.4.1)\n",
            "Requirement already satisfied: Mako in c:\\users\\oh\\anaconda3\\lib\\site-packages (from alembic>=1.5.0->optuna>=2.7.0->mljar-supervised) (1.2.4)\n",
            "Requirement already satisfied: parso<0.9.0,>=0.8.0 in c:\\users\\oh\\anaconda3\\lib\\site-packages (from jedi>=0.16->ipython->mljar-supervised) (0.8.3)\n",
            "Requirement already satisfied: wcwidth in c:\\users\\oh\\anaconda3\\lib\\site-packages (from prompt-toolkit!=3.0.0,!=3.0.1,<3.1.0,>=2.0.0->ipython->mljar-supervised) (0.2.5)\n",
            "Requirement already satisfied: greenlet!=0.4.17 in c:\\users\\oh\\anaconda3\\lib\\site-packages (from sqlalchemy>=1.3.0->optuna>=2.7.0->mljar-supervised) (1.1.1)\n",
            "Requirement already satisfied: llvmlite<0.39,>=0.38.0rc1 in c:\\users\\oh\\anaconda3\\lib\\site-packages (from numba->shap>=0.36.0->mljar-supervised) (0.38.0)\n",
            "Requirement already satisfied: tenacity>=6.2.0 in c:\\users\\oh\\anaconda3\\lib\\site-packages (from plotly->catboost>=0.24.4->mljar-supervised) (8.0.1)\n",
            "Requirement already satisfied: attrs>=19.2.0 in c:\\users\\oh\\anaconda3\\lib\\site-packages (from pytest->dtreeviz>=2.0.0->mljar-supervised) (21.4.0)\n",
            "Requirement already satisfied: iniconfig in c:\\users\\oh\\anaconda3\\lib\\site-packages (from pytest->dtreeviz>=2.0.0->mljar-supervised) (1.1.1)\n",
            "Requirement already satisfied: pluggy<2.0,>=0.12 in c:\\users\\oh\\anaconda3\\lib\\site-packages (from pytest->dtreeviz>=2.0.0->mljar-supervised) (1.0.0)\n",
            "Requirement already satisfied: py>=1.8.2 in c:\\users\\oh\\anaconda3\\lib\\site-packages (from pytest->dtreeviz>=2.0.0->mljar-supervised) (1.11.0)\n",
            "Requirement already satisfied: tomli>=1.0.0 in c:\\users\\oh\\anaconda3\\lib\\site-packages (from pytest->dtreeviz>=2.0.0->mljar-supervised) (2.0.1)\n",
            "Requirement already satisfied: atomicwrites>=1.0 in c:\\users\\oh\\anaconda3\\lib\\site-packages (from pytest->dtreeviz>=2.0.0->mljar-supervised) (1.4.0)\n",
            "Requirement already satisfied: MarkupSafe>=0.9.2 in c:\\users\\oh\\anaconda3\\lib\\site-packages (from Mako->alembic>=1.5.0->optuna>=2.7.0->mljar-supervised) (2.0.1)\n",
            "Note: you may need to restart the kernel to use updated packages.\n"
          ]
        }
      ],
      "source": [
        "pip install --user mljar-supervised"
      ]
    },
    {
      "cell_type": "markdown",
      "source": [
        "# 라이브러리 로딩 및 초기화"
      ],
      "metadata": {
        "id": "IjhoAjQSfTYN"
      }
    },
    {
      "cell_type": "code",
      "source": [
        "import pandas as pd\n",
        "import numpy as np\n",
        "import random\n",
        "import os\n",
        "import warnings\n",
        "from sklearn.model_selection import train_test_split\n",
        "warnings.filterwarnings(action='ignore')"
      ],
      "metadata": {
        "id": "0NdQ1jYQfLyK"
      },
      "execution_count": null,
      "outputs": []
    },
    {
      "cell_type": "code",
      "source": [
        "def seed_everything(seed):\n",
        "    random.seed(seed)\n",
        "    os.environ['PYTHONHASHSEED'] = str(seed)\n",
        "    np.random.seed(seed)\n",
        "\n",
        "seed_everything(96) # Seed 고정"
      ],
      "metadata": {
        "id": "N9P64QcifKUM"
      },
      "execution_count": null,
      "outputs": []
    },
    {
      "cell_type": "markdown",
      "source": [
        "# 구글 드라이브 연동"
      ],
      "metadata": {
        "id": "6DF1ABARfhtE"
      }
    },
    {
      "cell_type": "code",
      "source": [
        "from google.colab import drive\n",
        "drive.mount('/content/drive')"
      ],
      "metadata": {
        "colab": {
          "base_uri": "https://localhost:8080/"
        },
        "id": "8n9pFVC4fjQg",
        "outputId": "52634dc2-f4e9-4733-93c3-c60c8333fa32"
      },
      "execution_count": null,
      "outputs": [
        {
          "output_type": "stream",
          "name": "stdout",
          "text": [
            "Mounted at /content/drive\n"
          ]
        }
      ]
    },
    {
      "cell_type": "markdown",
      "source": [
        "# 데이터 로딩 및 요약"
      ],
      "metadata": {
        "id": "PFVHfTUtfYXm"
      }
    },
    {
      "cell_type": "code",
      "execution_count": null,
      "metadata": {
        "id": "Lrhm9GlDwl_A"
      },
      "outputs": [],
      "source": [
        "train = pd.read_csv(\"/content/drive/MyDrive/데이콘/초전도체/train.csv\")\n",
        "test = pd.read_csv(\"/content/drive/MyDrive/데이콘/초전도체/test.csv\")"
      ]
    },
    {
      "cell_type": "code",
      "execution_count": null,
      "metadata": {
        "id": "sB58aZ5OzHh9"
      },
      "outputs": [],
      "source": [
        "train.drop(\"ID\", axis = 1, inplace = True)\n",
        "test.drop(\"ID\", axis = 1, inplace = True)"
      ]
    },
    {
      "cell_type": "code",
      "source": [
        "train.info()"
      ],
      "metadata": {
        "colab": {
          "base_uri": "https://localhost:8080/"
        },
        "id": "X33x7HRDf1lC",
        "outputId": "c4e10b1d-18b3-4972-93a5-9b745f14ddf8"
      },
      "execution_count": null,
      "outputs": [
        {
          "output_type": "stream",
          "name": "stdout",
          "text": [
            "<class 'pandas.core.frame.DataFrame'>\n",
            "RangeIndex: 12759 entries, 0 to 12758\n",
            "Data columns (total 82 columns):\n",
            " #   Column                           Non-Null Count  Dtype  \n",
            "---  ------                           --------------  -----  \n",
            " 0   number_of_elements               12759 non-null  int64  \n",
            " 1   mean_atomic_mass                 12759 non-null  float64\n",
            " 2   wtd_mean_atomic_mass             12759 non-null  float64\n",
            " 3   gmean_atomic_mass                12759 non-null  float64\n",
            " 4   wtd_gmean_atomic_mass            12759 non-null  float64\n",
            " 5   entropy_atomic_mass              12759 non-null  float64\n",
            " 6   wtd_entropy_atomic_mass          12759 non-null  float64\n",
            " 7   range_atomic_mass                12759 non-null  float64\n",
            " 8   wtd_range_atomic_mass            12759 non-null  float64\n",
            " 9   std_atomic_mass                  12759 non-null  float64\n",
            " 10  wtd_std_atomic_mass              12759 non-null  float64\n",
            " 11  mean_fie                         12759 non-null  float64\n",
            " 12  wtd_mean_fie                     12759 non-null  float64\n",
            " 13  gmean_fie                        12759 non-null  float64\n",
            " 14  wtd_gmean_fie                    12759 non-null  float64\n",
            " 15  entropy_fie                      12759 non-null  float64\n",
            " 16  wtd_entropy_fie                  12759 non-null  float64\n",
            " 17  range_fie                        12759 non-null  float64\n",
            " 18  wtd_range_fie                    12759 non-null  float64\n",
            " 19  std_fie                          12759 non-null  float64\n",
            " 20  wtd_std_fie                      12759 non-null  float64\n",
            " 21  mean_atomic_radius               12759 non-null  float64\n",
            " 22  wtd_mean_atomic_radius           12759 non-null  float64\n",
            " 23  gmean_atomic_radius              12759 non-null  float64\n",
            " 24  wtd_gmean_atomic_radius          12759 non-null  float64\n",
            " 25  entropy_atomic_radius            12759 non-null  float64\n",
            " 26  wtd_entropy_atomic_radius        12759 non-null  float64\n",
            " 27  range_atomic_radius              12759 non-null  float64\n",
            " 28  wtd_range_atomic_radius          12759 non-null  float64\n",
            " 29  std_atomic_radius                12759 non-null  float64\n",
            " 30  wtd_std_atomic_radius            12759 non-null  float64\n",
            " 31  mean_Density                     12759 non-null  float64\n",
            " 32  wtd_mean_Density                 12759 non-null  float64\n",
            " 33  gmean_Density                    12759 non-null  float64\n",
            " 34  wtd_gmean_Density                12759 non-null  float64\n",
            " 35  entropy_Density                  12759 non-null  float64\n",
            " 36  wtd_entropy_Density              12759 non-null  float64\n",
            " 37  range_Density                    12759 non-null  float64\n",
            " 38  wtd_range_Density                12759 non-null  float64\n",
            " 39  std_Density                      12759 non-null  float64\n",
            " 40  wtd_std_Density                  12759 non-null  float64\n",
            " 41  mean_ElectronAffinity            12759 non-null  float64\n",
            " 42  wtd_mean_ElectronAffinity        12759 non-null  float64\n",
            " 43  gmean_ElectronAffinity           12759 non-null  float64\n",
            " 44  wtd_gmean_ElectronAffinity       12759 non-null  float64\n",
            " 45  entropy_ElectronAffinity         12759 non-null  float64\n",
            " 46  wtd_entropy_ElectronAffinity     12759 non-null  float64\n",
            " 47  range_ElectronAffinity           12759 non-null  float64\n",
            " 48  wtd_range_ElectronAffinity       12759 non-null  float64\n",
            " 49  std_ElectronAffinity             12759 non-null  float64\n",
            " 50  wtd_std_ElectronAffinity         12759 non-null  float64\n",
            " 51  mean_FusionHeat                  12759 non-null  float64\n",
            " 52  wtd_mean_FusionHeat              12759 non-null  float64\n",
            " 53  gmean_FusionHeat                 12759 non-null  float64\n",
            " 54  wtd_gmean_FusionHeat             12759 non-null  float64\n",
            " 55  entropy_FusionHeat               12759 non-null  float64\n",
            " 56  wtd_entropy_FusionHeat           12759 non-null  float64\n",
            " 57  range_FusionHeat                 12759 non-null  float64\n",
            " 58  wtd_range_FusionHeat             12759 non-null  float64\n",
            " 59  std_FusionHeat                   12759 non-null  float64\n",
            " 60  wtd_std_FusionHeat               12759 non-null  float64\n",
            " 61  mean_ThermalConductivity         12759 non-null  float64\n",
            " 62  wtd_mean_ThermalConductivity     12759 non-null  float64\n",
            " 63  gmean_ThermalConductivity        12759 non-null  float64\n",
            " 64  wtd_gmean_ThermalConductivity    12759 non-null  float64\n",
            " 65  entropy_ThermalConductivity      12759 non-null  float64\n",
            " 66  wtd_entropy_ThermalConductivity  12759 non-null  float64\n",
            " 67  range_ThermalConductivity        12759 non-null  float64\n",
            " 68  wtd_range_ThermalConductivity    12759 non-null  float64\n",
            " 69  std_ThermalConductivity          12759 non-null  float64\n",
            " 70  wtd_std_ThermalConductivity      12759 non-null  float64\n",
            " 71  mean_Valence                     12759 non-null  float64\n",
            " 72  wtd_mean_Valence                 12759 non-null  float64\n",
            " 73  gmean_Valence                    12759 non-null  float64\n",
            " 74  wtd_gmean_Valence                12759 non-null  float64\n",
            " 75  entropy_Valence                  12759 non-null  float64\n",
            " 76  wtd_entropy_Valence              12759 non-null  float64\n",
            " 77  range_Valence                    12759 non-null  float64\n",
            " 78  wtd_range_Valence                12759 non-null  float64\n",
            " 79  std_Valence                      12759 non-null  float64\n",
            " 80  wtd_std_Valence                  12759 non-null  float64\n",
            " 81  critical_temp                    12759 non-null  float64\n",
            "dtypes: float64(81), int64(1)\n",
            "memory usage: 8.0 MB\n"
          ]
        }
      ]
    },
    {
      "cell_type": "code",
      "source": [
        "test.info()"
      ],
      "metadata": {
        "colab": {
          "base_uri": "https://localhost:8080/"
        },
        "id": "YzoAfSrFf4bO",
        "outputId": "cbc0ae23-1c5b-4e16-f90a-2465d9c45c25"
      },
      "execution_count": null,
      "outputs": [
        {
          "output_type": "stream",
          "name": "stdout",
          "text": [
            "<class 'pandas.core.frame.DataFrame'>\n",
            "RangeIndex: 8504 entries, 0 to 8503\n",
            "Data columns (total 81 columns):\n",
            " #   Column                           Non-Null Count  Dtype  \n",
            "---  ------                           --------------  -----  \n",
            " 0   number_of_elements               8504 non-null   int64  \n",
            " 1   mean_atomic_mass                 8504 non-null   float64\n",
            " 2   wtd_mean_atomic_mass             8504 non-null   float64\n",
            " 3   gmean_atomic_mass                8504 non-null   float64\n",
            " 4   wtd_gmean_atomic_mass            8504 non-null   float64\n",
            " 5   entropy_atomic_mass              8504 non-null   float64\n",
            " 6   wtd_entropy_atomic_mass          8504 non-null   float64\n",
            " 7   range_atomic_mass                8504 non-null   float64\n",
            " 8   wtd_range_atomic_mass            8504 non-null   float64\n",
            " 9   std_atomic_mass                  8504 non-null   float64\n",
            " 10  wtd_std_atomic_mass              8504 non-null   float64\n",
            " 11  mean_fie                         8504 non-null   float64\n",
            " 12  wtd_mean_fie                     8504 non-null   float64\n",
            " 13  gmean_fie                        8504 non-null   float64\n",
            " 14  wtd_gmean_fie                    8504 non-null   float64\n",
            " 15  entropy_fie                      8504 non-null   float64\n",
            " 16  wtd_entropy_fie                  8504 non-null   float64\n",
            " 17  range_fie                        8504 non-null   float64\n",
            " 18  wtd_range_fie                    8504 non-null   float64\n",
            " 19  std_fie                          8504 non-null   float64\n",
            " 20  wtd_std_fie                      8504 non-null   float64\n",
            " 21  mean_atomic_radius               8504 non-null   float64\n",
            " 22  wtd_mean_atomic_radius           8504 non-null   float64\n",
            " 23  gmean_atomic_radius              8504 non-null   float64\n",
            " 24  wtd_gmean_atomic_radius          8504 non-null   float64\n",
            " 25  entropy_atomic_radius            8504 non-null   float64\n",
            " 26  wtd_entropy_atomic_radius        8504 non-null   float64\n",
            " 27  range_atomic_radius              8504 non-null   float64\n",
            " 28  wtd_range_atomic_radius          8504 non-null   float64\n",
            " 29  std_atomic_radius                8504 non-null   float64\n",
            " 30  wtd_std_atomic_radius            8504 non-null   float64\n",
            " 31  mean_Density                     8504 non-null   float64\n",
            " 32  wtd_mean_Density                 8504 non-null   float64\n",
            " 33  gmean_Density                    8504 non-null   float64\n",
            " 34  wtd_gmean_Density                8504 non-null   float64\n",
            " 35  entropy_Density                  8504 non-null   float64\n",
            " 36  wtd_entropy_Density              8504 non-null   float64\n",
            " 37  range_Density                    8504 non-null   float64\n",
            " 38  wtd_range_Density                8504 non-null   float64\n",
            " 39  std_Density                      8504 non-null   float64\n",
            " 40  wtd_std_Density                  8504 non-null   float64\n",
            " 41  mean_ElectronAffinity            8504 non-null   float64\n",
            " 42  wtd_mean_ElectronAffinity        8504 non-null   float64\n",
            " 43  gmean_ElectronAffinity           8504 non-null   float64\n",
            " 44  wtd_gmean_ElectronAffinity       8504 non-null   float64\n",
            " 45  entropy_ElectronAffinity         8504 non-null   float64\n",
            " 46  wtd_entropy_ElectronAffinity     8504 non-null   float64\n",
            " 47  range_ElectronAffinity           8504 non-null   float64\n",
            " 48  wtd_range_ElectronAffinity       8504 non-null   float64\n",
            " 49  std_ElectronAffinity             8504 non-null   float64\n",
            " 50  wtd_std_ElectronAffinity         8504 non-null   float64\n",
            " 51  mean_FusionHeat                  8504 non-null   float64\n",
            " 52  wtd_mean_FusionHeat              8504 non-null   float64\n",
            " 53  gmean_FusionHeat                 8504 non-null   float64\n",
            " 54  wtd_gmean_FusionHeat             8504 non-null   float64\n",
            " 55  entropy_FusionHeat               8504 non-null   float64\n",
            " 56  wtd_entropy_FusionHeat           8504 non-null   float64\n",
            " 57  range_FusionHeat                 8504 non-null   float64\n",
            " 58  wtd_range_FusionHeat             8504 non-null   float64\n",
            " 59  std_FusionHeat                   8504 non-null   float64\n",
            " 60  wtd_std_FusionHeat               8504 non-null   float64\n",
            " 61  mean_ThermalConductivity         8504 non-null   float64\n",
            " 62  wtd_mean_ThermalConductivity     8504 non-null   float64\n",
            " 63  gmean_ThermalConductivity        8504 non-null   float64\n",
            " 64  wtd_gmean_ThermalConductivity    8504 non-null   float64\n",
            " 65  entropy_ThermalConductivity      8504 non-null   float64\n",
            " 66  wtd_entropy_ThermalConductivity  8504 non-null   float64\n",
            " 67  range_ThermalConductivity        8504 non-null   float64\n",
            " 68  wtd_range_ThermalConductivity    8504 non-null   float64\n",
            " 69  std_ThermalConductivity          8504 non-null   float64\n",
            " 70  wtd_std_ThermalConductivity      8504 non-null   float64\n",
            " 71  mean_Valence                     8504 non-null   float64\n",
            " 72  wtd_mean_Valence                 8504 non-null   float64\n",
            " 73  gmean_Valence                    8504 non-null   float64\n",
            " 74  wtd_gmean_Valence                8504 non-null   float64\n",
            " 75  entropy_Valence                  8504 non-null   float64\n",
            " 76  wtd_entropy_Valence              8504 non-null   float64\n",
            " 77  range_Valence                    8504 non-null   float64\n",
            " 78  wtd_range_Valence                8504 non-null   float64\n",
            " 79  std_Valence                      8504 non-null   float64\n",
            " 80  wtd_std_Valence                  8504 non-null   float64\n",
            "dtypes: float64(80), int64(1)\n",
            "memory usage: 5.3 MB\n"
          ]
        }
      ]
    },
    {
      "cell_type": "code",
      "execution_count": null,
      "metadata": {
        "id": "vlC9z88r0Z6R"
      },
      "outputs": [],
      "source": [
        "x = train.drop(\"critical_temp\", axis = 1)\n",
        "y = train[\"critical_temp\"]"
      ]
    },
    {
      "cell_type": "markdown",
      "source": [
        "# eval_metric 설정"
      ],
      "metadata": {
        "id": "qikWRbvYgFTR"
      }
    },
    {
      "cell_type": "code",
      "execution_count": null,
      "metadata": {
        "id": "S8XbUYza14kT"
      },
      "outputs": [],
      "source": [
        "def NMAE(true, pred, sample_weight=None):\n",
        "    mae = np.mean(np.abs(true - pred))\n",
        "    score = mae / np.mean(np.abs(true))\n",
        "    return score"
      ]
    },
    {
      "cell_type": "markdown",
      "source": [
        "# 모델 초기화 및 훈련(mljar-supervised)"
      ],
      "metadata": {
        "id": "1Z4LlXQvgT3Y"
      }
    },
    {
      "cell_type": "code",
      "execution_count": null,
      "metadata": {
        "id": "y5XokPJQ0kHB"
      },
      "outputs": [],
      "source": [
        "from supervised.automl import AutoML\n",
        "automl = AutoML(mode = \"Compete\",\n",
        "                algorithms = ['Random Forest', 'LightGBM', 'Xgboost', 'CatBoost'],\n",
        "                ml_task = \"regression\", eval_metric=NMAE, random_state = 42, total_time_limit=43200)"
      ]
    },
    {
      "cell_type": "code",
      "execution_count": null,
      "metadata": {
        "colab": {
          "base_uri": "https://localhost:8080/"
        },
        "id": "TE7pko4_19EM",
        "outputId": "577e03ca-e83e-4f36-865d-e82b1c3a4ece"
      },
      "outputs": [
        {
          "name": "stdout",
          "output_type": "stream",
          "text": [
            "AutoML directory: AutoML_4\n",
            "The task is regression with evaluation metric user_defined_metric\n",
            "AutoML will use algorithms: ['Random Forest', 'LightGBM', 'Xgboost', 'CatBoost']\n",
            "AutoML will stack models\n",
            "AutoML will ensemble available models\n",
            "AutoML steps: ['adjust_validation', 'simple_algorithms', 'default_algorithms', 'not_so_random', 'golden_features', 'kmeans_features', 'insert_random_feature', 'features_selection', 'hill_climbing_1', 'hill_climbing_2', 'boost_on_errors', 'ensemble', 'stack', 'ensemble_stacked']\n",
            "* Step adjust_validation will try to check up to 1 model\n",
            "1_DecisionTree user_defined_metric 0.354634 trained in 1.12 seconds\n",
            "Adjust validation. Remove: 1_DecisionTree\n",
            "Validation strategy: 10-fold CV Shuffle\n",
            "Skip simple_algorithms because no parameters were generated.\n",
            "* Step default_algorithms will try to check up to 4 models\n",
            "1_Default_LightGBM user_defined_metric 0.157634 trained in 178.14 seconds\n",
            "2_Default_Xgboost user_defined_metric 0.160267 trained in 277.29 seconds\n",
            "3_Default_CatBoost user_defined_metric 0.161784 trained in 725.81 seconds\n",
            "4_Default_RandomForest user_defined_metric 0.337182 trained in 122.08 seconds\n",
            "* Step not_so_random will try to check up to 36 models\n",
            "14_LightGBM user_defined_metric 0.160208 trained in 99.81 seconds\n",
            "5_Xgboost user_defined_metric 0.159528 trained in 131.1 seconds\n",
            "23_CatBoost user_defined_metric 0.160882 trained in 1105.79 seconds\n",
            "32_RandomForest user_defined_metric 0.341298 trained in 135.75 seconds\n",
            "15_LightGBM user_defined_metric 0.16187 trained in 118.7 seconds\n",
            "6_Xgboost user_defined_metric 0.17466 trained in 79.63 seconds\n",
            "24_CatBoost user_defined_metric 0.166241 trained in 426.31 seconds\n",
            "33_RandomForest user_defined_metric 0.278266 trained in 118.2 seconds\n",
            "16_LightGBM user_defined_metric 0.160054 trained in 211.32 seconds\n",
            "7_Xgboost user_defined_metric 0.15847 trained in 230.05 seconds\n",
            "25_CatBoost user_defined_metric 0.162789 trained in 4329.08 seconds\n",
            "34_RandomForest user_defined_metric 0.367198 trained in 94.86 seconds\n",
            "17_LightGBM user_defined_metric 0.157332 trained in 221.17 seconds\n",
            "8_Xgboost user_defined_metric 0.175695 trained in 131.83 seconds\n",
            "26_CatBoost user_defined_metric 0.185889 trained in 422.1 seconds\n",
            "35_RandomForest user_defined_metric 0.336103 trained in 104.85 seconds\n",
            "18_LightGBM user_defined_metric 0.162728 trained in 59.77 seconds\n",
            "9_Xgboost user_defined_metric 0.174817 trained in 164.08 seconds\n",
            "27_CatBoost user_defined_metric 0.161195 trained in 2777.61 seconds\n",
            "36_RandomForest user_defined_metric 0.365384 trained in 67.35 seconds\n",
            "19_LightGBM user_defined_metric 0.158363 trained in 114.32 seconds\n",
            "10_Xgboost user_defined_metric 0.167357 trained in 129.03 seconds\n",
            "28_CatBoost user_defined_metric 0.176523 trained in 642.37 seconds\n",
            "37_RandomForest user_defined_metric 0.336002 trained in 77.26 seconds\n",
            "20_LightGBM user_defined_metric 0.161791 trained in 149.59 seconds\n",
            "11_Xgboost user_defined_metric 0.168073 trained in 123.65 seconds\n",
            "29_CatBoost user_defined_metric 0.174167 trained in 441.22 seconds\n",
            "38_RandomForest user_defined_metric 0.27673 trained in 153.98 seconds\n",
            "21_LightGBM user_defined_metric 0.158427 trained in 118.15 seconds\n",
            "12_Xgboost user_defined_metric 0.163388 trained in 116.93 seconds\n",
            "30_CatBoost user_defined_metric 0.160831 trained in 1315.22 seconds\n",
            "39_RandomForest user_defined_metric 0.368294 trained in 95.82 seconds\n",
            "22_LightGBM user_defined_metric 0.162458 trained in 74.65 seconds\n",
            "13_Xgboost user_defined_metric 0.165374 trained in 182.67 seconds\n",
            "31_CatBoost user_defined_metric 0.171386 trained in 1920.93 seconds\n",
            "40_RandomForest user_defined_metric 0.334143 trained in 76.75 seconds\n",
            "* Step golden_features will try to check up to 3 models\n",
            "None 10\n",
            "Add Golden Feature: wtd_std_ThermalConductivity_multiply_range_atomic_mass\n",
            "Add Golden Feature: wtd_std_ThermalConductivity_sum_range_atomic_mass\n",
            "Add Golden Feature: range_ThermalConductivity_multiply_range_fie\n",
            "Add Golden Feature: range_ThermalConductivity_sum_range_fie\n",
            "Add Golden Feature: wtd_gmean_ElectronAffinity_diff_range_ThermalConductivity\n",
            "Add Golden Feature: wtd_std_ThermalConductivity_ratio_wtd_gmean_ElectronAffinity\n",
            "Add Golden Feature: wtd_gmean_ElectronAffinity_ratio_wtd_std_ThermalConductivity\n",
            "Add Golden Feature: wtd_entropy_fie_ratio_wtd_mean_Valence\n",
            "Add Golden Feature: range_ThermalConductivity_diff_wtd_mean_Valence\n",
            "Add Golden Feature: wtd_gmean_ElectronAffinity_diff_wtd_std_ThermalConductivity\n",
            "Created 10 Golden Features in 33.99 seconds.\n",
            "17_LightGBM_GoldenFeatures user_defined_metric 0.158114 trained in 234.82 seconds\n",
            "1_Default_LightGBM_GoldenFeatures user_defined_metric 0.15804 trained in 211.08 seconds\n",
            "19_LightGBM_GoldenFeatures user_defined_metric 0.159506 trained in 105.4 seconds\n",
            "* Step kmeans_features will try to check up to 3 models\n",
            "17_LightGBM_KMeansFeatures user_defined_metric 0.157017 trained in 265.54 seconds\n",
            "1_Default_LightGBM_KMeansFeatures user_defined_metric 0.158158 trained in 247.03 seconds\n",
            "19_LightGBM_KMeansFeatures user_defined_metric 0.159397 trained in 130.19 seconds\n",
            "* Step insert_random_feature will try to check up to 1 model\n",
            "17_LightGBM_KMeansFeatures_RandomFeature user_defined_metric 0.165511 trained in 713.81 seconds\n",
            "Drop features ['Dist_Cluster_8', 'wtd_gmean_fie', 'Dist_Cluster_30', 'Dist_Cluster_4', 'gmean_FusionHeat', 'Dist_Cluster_11', 'wtd_range_FusionHeat', 'Dist_Cluster_2', 'entropy_atomic_mass', 'wtd_entropy_fie', 'mean_ElectronAffinity', 'entropy_ElectronAffinity', 'Dist_Cluster_26', 'Cluster', 'std_fie', 'gmean_fie', 'Dist_Cluster_15', 'gmean_Valence', 'entropy_Valence', 'range_FusionHeat', 'std_ThermalConductivity', 'range_Valence', 'Dist_Cluster_17', 'range_Density', 'mean_Valence', 'number_of_elements', 'random_feature']\n",
            "* Step features_selection will try to check up to 4 models\n",
            "17_LightGBM_KMeansFeatures_SelectedFeatures user_defined_metric 0.157104 trained in 208.64 seconds\n",
            "7_Xgboost_SelectedFeatures user_defined_metric 0.158592 trained in 197.85 seconds\n",
            "30_CatBoost_SelectedFeatures user_defined_metric 0.159361 trained in 1216.2 seconds\n",
            "38_RandomForest_SelectedFeatures user_defined_metric 0.277825 trained in 122.36 seconds\n",
            "* Step hill_climbing_1 will try to check up to 21 models\n",
            "41_LightGBM user_defined_metric 0.157597 trained in 238.88 seconds\n",
            "42_LightGBM user_defined_metric 0.156615 trained in 252.97 seconds\n",
            "43_LightGBM_SelectedFeatures user_defined_metric 0.157863 trained in 201.45 seconds\n",
            "44_LightGBM_SelectedFeatures user_defined_metric 0.15733 trained in 214.91 seconds\n",
            "45_LightGBM user_defined_metric 0.157465 trained in 176.21 seconds\n",
            "46_LightGBM user_defined_metric 0.157157 trained in 189.29 seconds\n",
            "47_Xgboost user_defined_metric 0.159455 trained in 162.26 seconds\n",
            "48_Xgboost_SelectedFeatures user_defined_metric 0.158598 trained in 163.67 seconds\n",
            "49_CatBoost_SelectedFeatures user_defined_metric 0.158552 trained in 2265.57 seconds\n",
            "50_CatBoost_SelectedFeatures user_defined_metric 0.162427 trained in 698.6 seconds\n",
            "51_Xgboost user_defined_metric 0.15914 trained in 165.32 seconds\n",
            "52_Xgboost user_defined_metric 0.161229 trained in 100.56 seconds\n",
            "53_CatBoost user_defined_metric 0.158697 trained in 2757.77 seconds\n",
            "54_CatBoost user_defined_metric 0.163129 trained in 913.51 seconds\n",
            "55_CatBoost user_defined_metric 0.159413 trained in 1943.37 seconds\n",
            "* Step hill_climbing_2 will try to check up to 21 models\n",
            "56_LightGBM user_defined_metric 0.157125 trained in 286.15 seconds\n",
            "57_LightGBM user_defined_metric 0.156788 trained in 274.26 seconds\n",
            "58_LightGBM user_defined_metric 0.157416 trained in 269.85 seconds\n",
            "59_LightGBM user_defined_metric 0.156666 trained in 260.79 seconds\n",
            "60_LightGBM_SelectedFeatures user_defined_metric 0.15751 trained in 214.42 seconds\n",
            "61_LightGBM_SelectedFeatures user_defined_metric 0.157123 trained in 224.33 seconds\n",
            "62_Xgboost user_defined_metric 0.158653 trained in 207.06 seconds\n",
            "63_Xgboost user_defined_metric 0.157943 trained in 228.77 seconds\n",
            "64_CatBoost_SelectedFeatures user_defined_metric 0.163921 trained in 1584.85 seconds\n",
            "* Step boost_on_errors will try to check up to 1 model\n",
            "42_LightGBM_BoostOnErrors user_defined_metric 0.157867 trained in 237.28 seconds\n",
            "* Step ensemble will try to check up to 1 model\n",
            "There was an error during Ensemble training.\n",
            "Please check AutoML_4\\errors.md for details.\n",
            "* Step stack will try to check up to 40 models\n",
            "42_LightGBM_Stacked user_defined_metric 0.160692 trained in 100.51 seconds\n",
            "63_Xgboost_Stacked user_defined_metric 0.159728 trained in 73.23 seconds\n",
            "49_CatBoost_SelectedFeatures_Stacked user_defined_metric 0.157427 trained in 245.34 seconds\n",
            "38_RandomForest_Stacked user_defined_metric 0.156667 trained in 266.81 seconds\n",
            "59_LightGBM_Stacked user_defined_metric 0.160958 trained in 96.09 seconds\n",
            "7_Xgboost_Stacked user_defined_metric 0.159678 trained in 70.66 seconds\n",
            "53_CatBoost_Stacked user_defined_metric 0.157632 trained in 277.91 seconds\n",
            "38_RandomForest_SelectedFeatures_Stacked user_defined_metric 0.156481 trained in 253.96 seconds\n",
            "57_LightGBM_Stacked user_defined_metric 0.162054 trained in 107.31 seconds\n",
            "7_Xgboost_SelectedFeatures_Stacked user_defined_metric 0.159864 trained in 65.16 seconds\n",
            "30_CatBoost_SelectedFeatures_Stacked user_defined_metric 0.158061 trained in 155.72 seconds\n",
            "33_RandomForest_Stacked user_defined_metric 0.156672 trained in 232.19 seconds\n",
            "17_LightGBM_KMeansFeatures_Stacked user_defined_metric 0.160879 trained in 89.88 seconds\n",
            "48_Xgboost_SelectedFeatures_Stacked user_defined_metric 0.159583 trained in 54.65 seconds\n",
            "55_CatBoost_Stacked user_defined_metric 0.15747 trained in 188.11 seconds\n",
            "40_RandomForest_Stacked user_defined_metric 0.159594 trained in 182.33 seconds\n",
            "17_LightGBM_KMeansFeatures_SelectedFeatures_Stacked user_defined_metric 0.160714 trained in 88.85 seconds\n",
            "62_Xgboost_Stacked user_defined_metric 0.160088 trained in 69.11 seconds\n",
            "30_CatBoost_Stacked user_defined_metric 0.158856 trained in 170.46 seconds\n",
            "37_RandomForest_Stacked user_defined_metric 0.159374 trained in 164.21 seconds\n",
            "61_LightGBM_SelectedFeatures_Stacked user_defined_metric 0.161375 trained in 86.93 seconds\n",
            "51_Xgboost_Stacked user_defined_metric 0.159405 trained in 49.98 seconds\n",
            "23_CatBoost_Stacked user_defined_metric 0.158096 trained in 126.0 seconds\n",
            "35_RandomForest_Stacked user_defined_metric 0.159353 trained in 209.36 seconds\n",
            "56_LightGBM_Stacked user_defined_metric 0.160313 trained in 148.26 seconds\n",
            "47_Xgboost_Stacked user_defined_metric 0.160304 trained in 60.46 seconds\n",
            "27_CatBoost_Stacked user_defined_metric 0.157185 trained in 207.55 seconds\n",
            "4_Default_RandomForest_Stacked user_defined_metric 0.159297 trained in 187.9 seconds\n",
            "46_LightGBM_Stacked user_defined_metric 0.161771 trained in 77.54 seconds\n",
            "5_Xgboost_Stacked user_defined_metric 0.159294 trained in 43.03 seconds\n",
            "3_Default_CatBoost_Stacked user_defined_metric 0.157819 trained in 75.94 seconds\n",
            "32_RandomForest_Stacked user_defined_metric 0.159766 trained in 281.17 seconds\n",
            "44_LightGBM_SelectedFeatures_Stacked user_defined_metric 0.160638 trained in 98.78 seconds\n",
            "2_Default_Xgboost_Stacked user_defined_metric 0.158911 trained in 54.69 seconds\n",
            "50_CatBoost_SelectedFeatures_Stacked user_defined_metric 0.159959 trained in 110.89 seconds\n",
            "36_RandomForest_Stacked user_defined_metric 0.173315 trained in 141.34 seconds\n",
            "17_LightGBM_Stacked user_defined_metric 0.161134 trained in 61.98 seconds\n",
            "52_Xgboost_Stacked user_defined_metric 0.160276 trained in 38.43 seconds\n",
            "25_CatBoost_Stacked user_defined_metric 0.153922 trained in 1199.03 seconds\n",
            "34_RandomForest_Stacked user_defined_metric 0.173432 trained in 166.41 seconds\n",
            "* Step ensemble_stacked will try to check up to 1 model\n",
            "There was an error during Ensemble_Stacked training.\n",
            "Please check AutoML_4\\errors.md for details.\n",
            "AutoML fit time: 42512.85 seconds\n",
            "AutoML best model: 25_CatBoost_Stacked\n"
          ]
        },
        {
          "data": {
            "text/plain": [
              "AutoML(algorithms=['Random Forest', 'LightGBM', 'Xgboost', 'CatBoost'],\n",
              "       eval_metric=<function NMAE at 0x0000018C7F7679D0>, ml_task='regression',\n",
              "       mode='Compete', random_state=42, total_time_limit=43200)"
            ]
          },
          "execution_count": 9,
          "metadata": {},
          "output_type": "execute_result"
        }
      ],
      "source": [
        "automl.fit(x, y)"
      ]
    },
    {
      "cell_type": "markdown",
      "source": [
        "# 예측 및 저장"
      ],
      "metadata": {
        "id": "zRQ5XqEbgafm"
      }
    },
    {
      "cell_type": "code",
      "execution_count": null,
      "metadata": {
        "id": "RAHX0uMq8FGq"
      },
      "outputs": [],
      "source": [
        "pred = automl.predict_all(test)"
      ]
    },
    {
      "cell_type": "code",
      "execution_count": null,
      "metadata": {
        "id": "7Lc4Ayde8vsF"
      },
      "outputs": [],
      "source": [
        "sample = pd.read_csv(\"/content/drive/MyDrive/데이콘/초전도체/sample_submission.csv\")"
      ]
    },
    {
      "cell_type": "code",
      "execution_count": null,
      "metadata": {
        "id": "JQ_9jaxZ-p5O"
      },
      "outputs": [],
      "source": [
        "sample[\"critical_temp\"] = pred[\"prediction\"]"
      ]
    },
    {
      "cell_type": "code",
      "execution_count": null,
      "metadata": {
        "id": "LmerMKZdAOXO"
      },
      "outputs": [],
      "source": [
        "sample.to_csv(\"0821_03(automl12시간_모델4개).csv\", index = False)"
      ]
    }
  ],
  "metadata": {
    "colab": {
      "provenance": []
    },
    "kernelspec": {
      "display_name": "Python 3 (ipykernel)",
      "language": "python",
      "name": "python3"
    },
    "language_info": {
      "codemirror_mode": {
        "name": "ipython",
        "version": 3
      },
      "file_extension": ".py",
      "mimetype": "text/x-python",
      "name": "python",
      "nbconvert_exporter": "python",
      "pygments_lexer": "ipython3",
      "version": "3.9.13"
    }
  },
  "nbformat": 4,
  "nbformat_minor": 0
}